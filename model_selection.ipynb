{
 "cells": [
  {
   "cell_type": "code",
   "execution_count": 1,
   "id": "50302156",
   "metadata": {},
   "outputs": [],
   "source": [
    "# Cell 1: Imports\n",
    "import pandas as pd\n",
    "from sklearn.model_selection import train_test_split\n",
    "from sklearn.preprocessing import LabelEncoder\n",
    "from sklearn.metrics import accuracy_score, classification_report, confusion_matrix\n",
    "from sklearn.linear_model import LogisticRegression\n",
    "from sklearn.naive_bayes import GaussianNB\n",
    "from sklearn.tree import DecisionTreeClassifier\n",
    "from sklearn.ensemble import RandomForestClassifier\n",
    "from sklearn.neighbors import KNeighborsClassifier"
   ]
  },
  {
   "cell_type": "code",
   "execution_count": 2,
   "id": "ec8a9e3e",
   "metadata": {},
   "outputs": [
    {
     "name": "stdout",
     "output_type": "stream",
     "text": [
      "<class 'pandas.core.frame.DataFrame'>\n",
      "RangeIndex: 493 entries, 0 to 492\n",
      "Data columns (total 8 columns):\n",
      " #   Column               Non-Null Count  Dtype  \n",
      "---  ------               --------------  -----  \n",
      " 0   steps                493 non-null    float64\n",
      " 1   distance_km          493 non-null    float64\n",
      " 2   calories_burned      493 non-null    float64\n",
      " 3   active_minutes       493 non-null    float64\n",
      " 4   sleep_hours          493 non-null    float64\n",
      " 5   water_intake_liters  493 non-null    float64\n",
      " 6   mood                 493 non-null    object \n",
      " 7   date                 493 non-null    object \n",
      "dtypes: float64(6), object(2)\n",
      "memory usage: 30.9+ KB\n",
      "None\n",
      "          steps  distance_km  calories_burned  active_minutes  sleep_hours  \\\n",
      "0  12052.000000         8.32           448.90           139.0     7.108909   \n",
      "1   8431.243848         0.24             9.69             3.0     8.100000   \n",
      "2   7331.000000         4.30           277.60            98.0     6.700000   \n",
      "3   3357.000000         4.53            80.10             7.0     7.108909   \n",
      "4   6776.000000         4.88           254.14            61.0     9.100000   \n",
      "\n",
      "   water_intake_liters       mood        date  \n",
      "0                 2.56  motivated  2022-10-13  \n",
      "1                 3.19        sad  2022-06-26  \n",
      "2                 1.27      tired  2022-01-14  \n",
      "3                 1.83       calm  2022-02-22  \n",
      "4                 2.30        sad  2022-05-28  \n"
     ]
    }
   ],
   "source": [
    "# Cell 2: Load & inspect data\n",
    "file_path = \"steps_tracker_dataset_cleaned.csv\"  \n",
    "df = pd.read_csv(file_path)\n",
    "\n",
    "print(df.info())\n",
    "print(df.head())\n"
   ]
  },
  {
   "cell_type": "code",
   "execution_count": 3,
   "id": "23807871",
   "metadata": {},
   "outputs": [],
   "source": [
    "# Cell 3: Preprocessing\n",
    "# 1) Drop 'date'\n",
    "# 2) Encode 'mood' to numeric labels\n",
    "df = df.drop(columns=['date'])\n",
    "le = LabelEncoder()\n",
    "df['mood_encoded'] = le.fit_transform(df['mood'])\n",
    "\n",
    "# Features and target\n",
    "X = df.drop(columns=['mood', 'mood_encoded'])\n",
    "y = df['mood_encoded']\n",
    "\n",
    "# Train/test split\n",
    "X_train, X_test, y_train, y_test = train_test_split(\n",
    "    X, y, test_size=0.2, random_state=42, stratify=y\n",
    ")\n"
   ]
  },
  {
   "cell_type": "code",
   "execution_count": 4,
   "id": "6d2e4212",
   "metadata": {},
   "outputs": [],
   "source": [
    "# Cell 4: Define models\n",
    "models = {\n",
    "    \"Logistic Regression\": LogisticRegression(max_iter=1000),\n",
    "    \"Naive Bayes\": GaussianNB(),\n",
    "    \"CART (Gini)\": DecisionTreeClassifier(criterion='gini'),\n",
    "    \"C4.5 (Entropy)\": DecisionTreeClassifier(criterion='entropy'),\n",
    "    \"Random Forest\": RandomForestClassifier(n_estimators=100),\n",
    "    \"KNN\": KNeighborsClassifier(n_neighbors=5)\n",
    "}\n"
   ]
  },
  {
   "cell_type": "code",
   "execution_count": 5,
   "id": "2ddf0d5c",
   "metadata": {},
   "outputs": [
    {
     "name": "stderr",
     "output_type": "stream",
     "text": [
      "c:\\Users\\Hp\\AppData\\Local\\Programs\\Python\\Python311\\Lib\\site-packages\\sklearn\\linear_model\\_logistic.py:469: ConvergenceWarning: lbfgs failed to converge (status=1):\n",
      "STOP: TOTAL NO. of ITERATIONS REACHED LIMIT.\n",
      "\n",
      "Increase the number of iterations (max_iter) or scale the data as shown in:\n",
      "    https://scikit-learn.org/stable/modules/preprocessing.html\n",
      "Please also refer to the documentation for alternative solver options:\n",
      "    https://scikit-learn.org/stable/modules/linear_model.html#logistic-regression\n",
      "  n_iter_i = _check_optimize_result(\n"
     ]
    },
    {
     "name": "stdout",
     "output_type": "stream",
     "text": [
      "Logistic Regression Accuracy: 13.1313\n",
      "Naive Bayes Accuracy: 10.1010\n",
      "CART (Gini) Accuracy: 13.1313\n",
      "C4.5 (Entropy) Accuracy: 12.1212\n",
      "Random Forest Accuracy: 10.1010\n",
      "KNN Accuracy: 9.0909\n",
      "\n",
      "Best model: Logistic Regression\n",
      "\n",
      "Classification Report:\n",
      "              precision    recall  f1-score   support\n",
      "\n",
      "        calm       0.14      0.17      0.15        12\n",
      "   energetic       0.13      0.31      0.18        13\n",
      "       happy       0.25      0.09      0.13        11\n",
      "   motivated       0.00      0.00      0.00        10\n",
      "     relaxed       0.13      0.27      0.18        15\n",
      "         sad       0.13      0.15      0.14        13\n",
      "    stressed       0.00      0.00      0.00        11\n",
      "       tired       0.00      0.00      0.00        14\n",
      "\n",
      "    accuracy                           0.13        99\n",
      "   macro avg       0.10      0.12      0.10        99\n",
      "weighted avg       0.10      0.13      0.10        99\n",
      "\n",
      "\n",
      "Confusion Matrix:\n",
      "[[2 2 1 0 5 2 0 0]\n",
      " [2 4 0 0 3 2 0 2]\n",
      " [1 4 1 0 3 1 0 1]\n",
      " [2 2 0 0 5 1 0 0]\n",
      " [3 3 1 0 4 4 0 0]\n",
      " [1 5 1 0 3 2 0 1]\n",
      " [1 4 0 1 3 2 0 0]\n",
      " [2 7 0 0 4 1 0 0]]\n"
     ]
    },
    {
     "name": "stderr",
     "output_type": "stream",
     "text": [
      "c:\\Users\\Hp\\AppData\\Local\\Programs\\Python\\Python311\\Lib\\site-packages\\sklearn\\metrics\\_classification.py:1531: UndefinedMetricWarning: Precision is ill-defined and being set to 0.0 in labels with no predicted samples. Use `zero_division` parameter to control this behavior.\n",
      "  _warn_prf(average, modifier, f\"{metric.capitalize()} is\", len(result))\n",
      "c:\\Users\\Hp\\AppData\\Local\\Programs\\Python\\Python311\\Lib\\site-packages\\sklearn\\metrics\\_classification.py:1531: UndefinedMetricWarning: Precision is ill-defined and being set to 0.0 in labels with no predicted samples. Use `zero_division` parameter to control this behavior.\n",
      "  _warn_prf(average, modifier, f\"{metric.capitalize()} is\", len(result))\n",
      "c:\\Users\\Hp\\AppData\\Local\\Programs\\Python\\Python311\\Lib\\site-packages\\sklearn\\metrics\\_classification.py:1531: UndefinedMetricWarning: Precision is ill-defined and being set to 0.0 in labels with no predicted samples. Use `zero_division` parameter to control this behavior.\n",
      "  _warn_prf(average, modifier, f\"{metric.capitalize()} is\", len(result))\n"
     ]
    }
   ],
   "source": [
    "# Cell 5: Train & Evaluate\n",
    "results = {}\n",
    "for name, model in models.items():\n",
    "    model.fit(X_train, y_train)\n",
    "    y_pred = model.predict(X_test)\n",
    "    acc = accuracy_score(y_test, y_pred)\n",
    "    results[name] = acc\n",
    "    print(f\"{name} Accuracy: {acc*100:.4f}\")\n",
    "\n",
    "# Optional: detailed report for the best model\n",
    "best_model_name = max(results, key=results.get)\n",
    "print(\"\\nBest model:\", best_model_name)\n",
    "\n",
    "best = models[best_model_name]\n",
    "y_pred_best = best.predict(X_test)\n",
    "print(\"\\nClassification Report:\")\n",
    "print(classification_report(y_test, y_pred_best, target_names=le.classes_))\n",
    "print(\"\\nConfusion Matrix:\")\n",
    "print(confusion_matrix(y_test, y_pred_best))\n"
   ]
  }
 ],
 "metadata": {
  "kernelspec": {
   "display_name": "Python 3",
   "language": "python",
   "name": "python3"
  },
  "language_info": {
   "codemirror_mode": {
    "name": "ipython",
    "version": 3
   },
   "file_extension": ".py",
   "mimetype": "text/x-python",
   "name": "python",
   "nbconvert_exporter": "python",
   "pygments_lexer": "ipython3",
   "version": "3.11.4"
  }
 },
 "nbformat": 4,
 "nbformat_minor": 5
}
